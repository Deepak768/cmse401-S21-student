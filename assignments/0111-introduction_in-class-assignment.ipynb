{
 "cells": [
  {
   "cell_type": "markdown",
   "metadata": {},
   "source": [
    "[Link to this document's Jupyter Notebook](./0111-introduction_in-class-assignment.ipynb)"
   ]
  },
  {
   "cell_type": "markdown",
   "metadata": {},
   "source": [
    "In order to successfully complete this assignment you need to participate both individually and in groups during class.   If you attend class in-person then have one of the instructors check your notebook and sign you out before leaving class on **Monday January 11**. If you are attending asyncronously, turn in your assignment using D2L no later than **_11:59pm on Monday January 11**. See links at the end of this document for access to the class timeline for your section."
   ]
  },
  {
   "cell_type": "markdown",
   "metadata": {},
   "source": [
    "---\n",
    "\n"
   ]
  },
  {
   "cell_type": "markdown",
   "metadata": {},
   "source": [
    "# Welcome to CMSE 401 - Methods in Parallel Programming"
   ]
  },
  {
   "cell_type": "markdown",
   "metadata": {},
   "source": [
    "<img alt=\"Picture of the Summit supercomputer at Oak Ridge National Laboratory\" src=\"https://3c1703fe8d.site.internapcdn.net/newman/csz/news/800/2018/ornllaunches.jpg\"><p style=\"text-align: right;\">\n",
    "Image from: https://phys.org/news/2018-06-ornl-summit-supercomputer.html\n",
    "</p>"
   ]
  },
  {
   "cell_type": "markdown",
   "metadata": {},
   "source": [
    "### Agenda for today's class (70 minutes)\n",
    "\n",
    "\n",
    "1. [(5 minutes)  Download assignment and do survey](#Download-assignment-and-do-survey)\n",
    "3. [(5 minutes)  Knowing what you don't Know](#Knowing-what-you-dont-Know)\n",
    "4. [(10 minutes)  Jargon Jar and Command History](#Jargon-Jar-and-Command-History)\n",
    "2. [(10 minutes)  Round Robin Introductions](#Round-Robin-Introductions)\n",
    "5. [(20 minutes) Syllabus and Schedule](#Syllabus-and-Schedule)\n",
    "6. [(20 minutes) Course Git Repository](#Course_Git_Repository)\n"
   ]
  },
  {
   "cell_type": "markdown",
   "metadata": {},
   "source": [
    "---\n",
    "<a name=Download-assignment-and-do-survey></a>\n",
    "# 1. Download assignment and do survey \n",
    "\n",
    "As you arrive into class, please complete the following pre-class survey: [Direct Link](https://docs.google.com/forms/d/e/1FAIpQLSfBYPpJta09UwJe8hFibatIoWxgalmxhj1TEiiDUWE4mKiDQA/viewform)"
   ]
  },
  {
   "cell_type": "code",
   "execution_count": null,
   "metadata": {},
   "outputs": [],
   "source": [
    "from IPython.display import HTML\n",
    "HTML(\n",
    "\"\"\"\n",
    "<iframe \n",
    "\tsrc=\"https://docs.google.com/forms/d/e/1FAIpQLSfBYPpJta09UwJe8hFibatIoWxgalmxhj1TEiiDUWE4mKiDQA/viewform?embedded=true\" \n",
    "\twidth=\"100%\" \n",
    "\theight=\"1200px\" \n",
    "\tframeborder=\"0\" \n",
    "\tmarginheight=\"0\" \n",
    "\tmarginwidth=\"0\">\n",
    "\tLoading...\n",
    "</iframe>\n",
    "\"\"\"\n",
    ")"
   ]
  },
  {
   "cell_type": "markdown",
   "metadata": {},
   "source": [
    "\n",
    "\n",
    "\n",
    "---\n",
    "<a name=Knowing-what-you-dont-Know></a>\n",
    "# 2. Knowing what you don't Know\n",
    "\n",
    "\n",
    "<img alt = \"Image of the levels of learning: Ignornace - Don't know what you don't know; Wisdom - Know what you don't know; Knowledge - Know what you know; and Instinct - Don't know what you know\" src=\"https://lh5.googleusercontent.com/erqXjWLpTTfJCHO4DnKPwZJtTW6wiVI8FqKhoc6Sx-eu41QP-uY7CeSouirdaat8ERxRukLp1w=w740\">"
   ]
  },
  {
   "cell_type": "markdown",
   "metadata": {},
   "source": [
    "\n",
    "\n",
    "---\n",
    "<a name=Jargon-Jar-and-Command-History></a>\n",
    "# 3. Jargon Jar and Command History\n",
    "\n",
    "\n",
    "\n",
    "Definition of Jargon: “Special words or expressions that are used by a particular profession or group and are difficult for others to understand.”\n",
    "- Discipline-specific terms\n",
    "- Words with multiple meanings\n",
    "- Cultural references\n",
    "- Idioms\n",
    "- Acronyms\n",
    "\n",
    "During this entire course, students are encouraged to add terms and phrases that are confusing to this notebook.  As a group we also encourage everyone to add definitions, examples and references. Please use the [Jargon Jar Link](https://docs.google.com/document/d/1ahg48CCFhRzUL-QIHzlt_KEf1XqsCasFBU4iePHhcug/edit#) to build on words and phrases discovered last semester. "
   ]
  },
  {
   "cell_type": "markdown",
   "metadata": {},
   "source": [
    "\n",
    "\n",
    "---\n",
    "<a name=Round-Robin-Introductions></a>\n",
    "# 4. Round Robin Introductions\n",
    "\n",
    "\n",
    "Briefly say who you are, what is your major and why you want to take this class."
   ]
  },
  {
   "cell_type": "markdown",
   "metadata": {},
   "source": [
    "\n",
    "---\n",
    "<a name=Syllabus-and-Schedule></a>\n",
    "# 5. Syllabus and Schedule\n",
    "\n",
    "<img alt=\"Picture of a pile of rocks balanced on a stick. Something you may see in a zen garden. Included here to represent balance\" src=\"https://3.bp.blogspot.com/-_5dGQOgIIl4/WXOmiP9nbrI/AAAAAAAAbAM/O6meBNN_nZ8TdsgG0feDr54rk4s6xjUoACLcBGAs/s1600/balance-between-neet-and-board.png\" width=\"70%\">\n",
    "\n",
    "- [Syllabus]()\n",
    "- [Preliminary Schedule]()\n",
    "\n",
    "**Closing thoughts** I am excited to be teaching this course with you.  Please note, although I have been teaching parallel programing and HPC  of for almost 10 years, this is the first time teaching it as an undergraduate course in this format.  We will need to work together to make sure we are achieving the learning goals.  Please be patient and flexible as we learn together and adjust throughout the semester. "
   ]
  },
  {
   "cell_type": "markdown",
   "metadata": {},
   "source": [
    "----\n",
    "<a name=\"Course_Git_Repository\"></a>\n",
    "# 6. Course Git Repository\n",
    "\n",
    "\n",
    "&#9989; <font color=red>**DO THIS:**</font> Download this in-class assignment from the course website.  Or, if you already have GIT installed and ready to use, download the assignment from the GIT class repository: ```git clone ```.  Some options for downloading the repository include:\n",
    "\n",
    "- Your Local machine (conda install git)\n",
    "- [Jupyterhub](http://jupyterhub2.egr.msu.edu)\n",
    "- [HPCC OnDemand](http://ondemand.hpcc.msu.edu)\n",
    "\n",
    "\n",
    "If you are new to GIT and/or you need a refresher. Please see the following git tutorial:\n",
    "\n",
    "- [Git Tutorial](https://msu-cmse-courses.github.io/cmse802-f20-student/0000-Getting-to-know-git.html)\n"
   ]
  },
  {
   "cell_type": "markdown",
   "metadata": {},
   "source": [
    "\n",
    "\n",
    "-----\n",
    "### Congratulations, we're done!\n",
    "\n",
    "If you attend class in-person then have one of the instructors check your notebook and sign you out before leaving class. If you are attending asynchronously, turn in your assignment using D2L."
   ]
  },
  {
   "cell_type": "markdown",
   "metadata": {},
   "source": [
    "### Course Resources:\n",
    "\n",
    "\n",
    " - [Website](https://msu-cmse-courses.github.io/cmse802-f20-student/)\n",
    " - [ZOOM]()\n",
    " - [Syllabus]()\n",
    " - [Schedule]()\n",
    " - [JargonJar](https://docs.google.com/document/d/1ahg48CCFhRzUL-QIHzlt_KEf1XqsCasFBU4iePHhcug/edit#)\n",
    "\n"
   ]
  },
  {
   "cell_type": "markdown",
   "metadata": {},
   "source": [
    "Written by Dr. Dirk Colbry, Michigan State University\n",
    "<a rel=\"license\" href=\"http://creativecommons.org/licenses/by-nc/4.0/\"><img alt=\"Creative Commons License\" style=\"border-width:0\" src=\"https://i.creativecommons.org/l/by-nc/4.0/88x31.png\" /></a><br />This work is licensed under a <a rel=\"license\" href=\"http://creativecommons.org/licenses/by-nc/4.0/\">Creative Commons Attribution-NonCommercial 4.0 International License</a>."
   ]
  },
  {
   "cell_type": "markdown",
   "metadata": {},
   "source": [
    "----"
   ]
  }
 ],
 "metadata": {
  "kernelspec": {
   "display_name": "Python 3",
   "language": "python",
   "name": "python3"
  },
  "language_info": {
   "codemirror_mode": {
    "name": "ipython",
    "version": 3
   },
   "file_extension": ".py",
   "mimetype": "text/x-python",
   "name": "python",
   "nbconvert_exporter": "python",
   "pygments_lexer": "ipython3",
   "version": "3.7.3"
  }
 },
 "nbformat": 4,
 "nbformat_minor": 2
}
