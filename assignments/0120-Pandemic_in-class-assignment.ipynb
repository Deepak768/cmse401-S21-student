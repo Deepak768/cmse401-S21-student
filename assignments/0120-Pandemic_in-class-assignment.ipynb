{
 "cells": [
  {
   "cell_type": "markdown",
   "metadata": {},
   "source": [
    "[Link to this document's Jupyter Notebook](./0120-Pandemic_in-class-assignment.ipynb)"
   ]
  },
  {
   "cell_type": "markdown",
   "metadata": {},
   "source": [
    "In order to successfully complete this assignment you need to participate both individually and in groups during class.   If you attend class in-person then have one of the instructors check your notebook and sign you out before leaving class on **Wednesday January 20**. If you are attending asynchronously, turn in your assignment using D2L no later than **_11:59pm on Wednesday January 20**. "
   ]
  },
  {
   "cell_type": "markdown",
   "metadata": {},
   "source": [
    "---\n",
    "\n"
   ]
  },
  {
   "cell_type": "markdown",
   "metadata": {},
   "source": [
    "# In-Class Assignment: Pandemic Example\n",
    "\n",
    "<img alt=\"image of a person wearing a mask during a pandemic. This image is here to motivate the pandemic example we will cover in class.\" src=\"https://images.squarespace-cdn.com/content/v1/584db7f9725e2509ff62d13f/1605052950627-UF7EUX7F41IMC7S51VCP/ke17ZwdGBToddI8pDm48kLNBnxw6dW5AAzM-sWYM7oAUqsxRUqqbr1mOJYKfIPR7LoDQ9mXPOjoJoqy81S2I8N_N4V1vUb5AoIIIbLZhVYxCRW4BPu10St3TBAUQYVKc2tnEKUS9exKpIGv5IxM1TRKHvWxW34jxJ2ktPcfbUxTYw8IybQRqhTbIcv7dJxX2/1131-mask.jpg?format=600w\">\n",
    "\n",
    "\n",
    "Image from: [Researchers Delay Cronoavirus Vaccine](https://plex.page/Researchers_Delay_Coronavirus_Vaccine)"
   ]
  },
  {
   "cell_type": "markdown",
   "metadata": {},
   "source": [
    "### Agenda for today's class (70 minutes)\n",
    "\n",
    "1. (20 mintues) Project Planning\n",
    "1. (10 minutes) Pre-class assignment review\n",
    "2. (40 minutes) Pandemic on HPCC"
   ]
  },
  {
   "cell_type": "markdown",
   "metadata": {},
   "source": [
    "----\n",
    "\n",
    "# 1. Project Planning\n",
    "\n",
    "Class projects will include six basic milestones:\n",
    "\n",
    "- **Milestone 1: Project Proposals** - Overview of what you would like to do for your projects.  What software will you explore, what science problem you will solve and what are the expected outcomes. \n",
    "- **Milestone 2: Software Exploration** - You will explore software NOT covered in this course. Software may include a library, programming language, hardware, scientific code, etc).  The project will require you to learn about the software, get it installed and working on the HPC (or equivalent) and write up a short tutorial with examples with enough details so that your peers can get it up and running).  \n",
    "- **Milestone 3: Parallel Coding** - You will identify an existing scientific/engineering problem that currently runs slow on a single core.  You will either write a new program form scratch or modify an existing code to run in parallel.  You may also modify an existing parallel code to run in parallel faster.   You may, but are not required to use the software you explored in milestone 2 of the project. \n",
    "- **Milestone 4: Scaling Study** - You will conduct a scaling study of your Stage 3 project demonstrating speedup. \n",
    "- **Milestone 5: Video Presentation** - You will create a present the results of your scaling study to your peers in the form of an video presentation. \n",
    "- **Milestone 6: Final Report and example code** - You will turn in a git repository with your final report. Ideally this repository will include instructions sufficient for milestone 2 plus any code you used in stage 3 and 4.  \n"
   ]
  },
  {
   "cell_type": "markdown",
   "metadata": {},
   "source": [
    "### Software ideas for Stage 1\n",
    "\n",
    "```\n",
    "OpenFlow\n",
    "Blast\n",
    "Petsci\n",
    "OpenMM\n",
    "MKL\n",
    "BLAS\n",
    "FFTW\n",
    "Kokkos\n",
    "Charm++\n",
    "Python Numba\n",
    "FPGA\n",
    "Tensorflow\n",
    "GPU\n",
    "OpenACC\n",
    "OpenCV\n",
    "MakeFlow\n",
    "Hadoop\n",
    "Tensorflows\n",
    "Torch\n",
    "Twister\n",
    "Condor\n",
    "XSEDE\n",
    "```"
   ]
  },
  {
   "cell_type": "markdown",
   "metadata": {},
   "source": [
    "----\n",
    "\n",
    "# 2. Pre-class assignment review\n",
    "\n",
    "Where did you get stuck?\n",
    "\n",
    "[0114--Clusters_pre-class-assignment](0119--Clusters_pre-class-assignment.ipynb)\n"
   ]
  },
  {
   "cell_type": "markdown",
   "metadata": {},
   "source": [
    "# 3. Pandemic Software on HPCC\n",
    "\n",
    "Now we are all going to log onto the HPCC and run a Pandemic simulator.  This is intended to be an overview for the class. \n",
    "\n",
    "- Please ask questions and try to follow along.  \n",
    "- It is okay if we don't get to everything in class.  \n",
    "- We will be covering these commands all semester so it is also okay if you don't fully understand what is going on. \n",
    "\n",
    "### Step 1: Start an OpenOnDemand interactive desktop session.  \n",
    "\n",
    "1. Go to [http://OnDemand.hpcc.msu.edu](http://OnDemand.hpcc.msu.edu), select \"Interactive Apps-->Interactive Desktop\".  Set the number of hours to 1 and the number of cores to 1 and the memory to 1GB.  Under advanced options set the node type to \"Any\".  Leave everything else blank and hit \"Launch\".   \n",
    "\n",
    "\n",
    "2. Select \"Interactive Apps-->Interactive Desktop\" again.  This time set the number of hours to 1 and the number of cores to 4 and the memory to 1GB.  Under advanced options set the node type to \"Any\".  Leave everything else blank and hit \"Launch\".   \n",
    "\n",
    "3. Wait for your sessions to start. \n",
    "\n",
    "**_NOTE_** As is the case anytime we use the HPCC,  there is no guarantee that these sessions will start during class.  This is a shared system and we need to be flexible.  You can also do the rest of this assignment on a development node. "
   ]
  },
  {
   "cell_type": "markdown",
   "metadata": {},
   "source": [
    "### Step 2: Open a Terminal app\n",
    "\n",
    "Once you have a desktop up and running, open a terminal app from the main menu.  Try navigating to \"Applications-->System Tools-->Terminal\".  Explore this menu a bit to get familiar with some of the programs available inside the interactive desktop. "
   ]
  },
  {
   "cell_type": "markdown",
   "metadata": {},
   "source": [
    "### Step 3: Navigate to the Pandemic Directory inside the BCCD-Example directory\n",
    "\n",
    "There is a BCCD-Example directory inside your course git repository (You should have cloned the course git repository in the pre-class)\n",
    "\n",
    "Let us Navigate to that folder using the following commands:\n",
    "\n",
    "| Command | Description|\n",
    "|---------|------------|\n",
    "| cd | Change Directory |\n",
    "| ls |  list directory | \n",
    "| pwd :| print working directory | \n",
    "| . | Shortcut to indicate current directory | \n",
    "| .. |  Shortcut to indicate parent directory | \n",
    "| ~ |  Shortcut to indicate home directory | \n"
   ]
  },
  {
   "cell_type": "markdown",
   "metadata": {},
   "source": [
    "These commands may be slightly different on your computer but here are common commands:\n",
    "\n",
    "```\n",
    "cd CMSE401-S21\n",
    "ls\n",
    "cd BCCD-Examples\n",
    "ls\n",
    "cd Pandemic \n",
    "ls\n",
    "pwd\n",
    "```"
   ]
  },
  {
   "cell_type": "markdown",
   "metadata": {},
   "source": [
    "### Step 4: Compile the Pandemic example code\n",
    "\n",
    "Type the following command on the terminal. THis switches from the GNU compilers to the INTEL compilers.  Some of the examples we are using in class today use the INTEL compilers. \n",
    "\n",
    "```module swap GNU INTEL```\n",
    "\n",
    "This example uses a ```Makefile``` to help the user know what commands are needed to compile.  You an view the ```Makefile``` by using the ```cat``` (catalog) command:\n",
    "\n",
    "```cat Makefile```\n",
    "\n",
    "We run the commands inside the ```Makefile``` using the ```make``` program. All you need to do is type ```make``` and the program will read the ```Makefile``` in the current directory and run it for you.\n",
    "\n",
    "```make```\n",
    "\n",
    "You should see some compiler commands on your screen.  This means it is working.  Check for errors and debug them."
   ]
  },
  {
   "cell_type": "markdown",
   "metadata": {},
   "source": [
    "### Step 5: Run the Pandemic example code\n",
    "\n",
    "Assuming everything is working, the build command made a few examples.  Lets run the examples from the command line:\n",
    "\n",
    "```./Pandemic.serial```\n",
    "\n",
    "This should run the Pandemic code inside your virtual desktop window.  "
   ]
  },
  {
   "cell_type": "markdown",
   "metadata": {},
   "source": [
    "\n",
    "\n",
    "-----\n",
    "### Congratulations, we're done!\n",
    "\n",
    "If you attend class in-person then have one of the instructors check your notebook and sign you out before leaving class. If you are attending asynchronously, turn in your assignment using D2L."
   ]
  },
  {
   "cell_type": "markdown",
   "metadata": {},
   "source": [
    "### Course Resources:\n",
    "\n",
    "\n",
    " - [Website](https://msu-cmse-courses.github.io/cmse802-f20-student/)\n",
    " - [ZOOM](https://msu.zoom.us/j/98207034052)\n",
    " - [JargonJar](https://docs.google.com/document/d/1ahg48CCFhRzUL-QIHzlt_KEf1XqsCasFBU4iePHhcug/edit#)\n",
    "\n"
   ]
  },
  {
   "cell_type": "markdown",
   "metadata": {},
   "source": [
    "Written by Dr. Dirk Colbry, Michigan State University\n",
    "<a rel=\"license\" href=\"http://creativecommons.org/licenses/by-nc/4.0/\"><img alt=\"Creative Commons License\" style=\"border-width:0\" src=\"https://i.creativecommons.org/l/by-nc/4.0/88x31.png\" /></a><br />This work is licensed under a <a rel=\"license\" href=\"http://creativecommons.org/licenses/by-nc/4.0/\">Creative Commons Attribution-NonCommercial 4.0 International License</a>."
   ]
  },
  {
   "cell_type": "markdown",
   "metadata": {},
   "source": [
    "----"
   ]
  }
 ],
 "metadata": {
  "kernelspec": {
   "display_name": "Python 3",
   "language": "python",
   "name": "python3"
  },
  "language_info": {
   "codemirror_mode": {
    "name": "ipython",
    "version": 3
   },
   "file_extension": ".py",
   "mimetype": "text/x-python",
   "name": "python",
   "nbconvert_exporter": "python",
   "pygments_lexer": "ipython3",
   "version": "3.7.3"
  }
 },
 "nbformat": 4,
 "nbformat_minor": 2
}
